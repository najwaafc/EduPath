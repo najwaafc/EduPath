{
 "cells": [
  {
   "cell_type": "code",
   "execution_count": 1,
   "metadata": {
    "id": "-jL71BTF-aIp"
   },
   "outputs": [],
   "source": [
    "import pandas as pd\n",
    "import numpy as np\n",
    "import tensorflow as tf\n",
    "from sklearn.model_selection import train_test_split\n",
    "from sklearn.feature_extraction.text import TfidfVectorizer\n",
    "from sklearn.preprocessing import LabelEncoder\n",
    "from sklearn.metrics import accuracy_score\n",
    "from sklearn.preprocessing import OneHotEncoder\n",
    "from sklearn.metrics.pairwise import cosine_similarity\n",
    "from tensorflow.keras.models import Sequential\n",
    "from tensorflow.keras.layers import Dense\n"
   ]
  },
  {
   "cell_type": "code",
   "execution_count": 10,
   "metadata": {
    "id": "TBMckg5p-b9p"
   },
   "outputs": [],
   "source": [
    "path = '.'\n",
    "df = pd.read_excel(f\"{path}/Dataset/Data_Jurusan_2.xlsx\")\n",
    "\n",
    "tfidf_vectorizer = TfidfVectorizer()\n",
    "tfidf_matrix = tfidf_vectorizer.fit_transform(df['Deskripsi'])\n",
    "\n",
    "label_encoder = LabelEncoder()\n",
    "df['Jurusan_Encoded'] = label_encoder.fit_transform(df['Jurusan'])\n",
    "\n",
    "X_train, X_test, y_train, y_test = train_test_split(\n",
    "    tfidf_matrix, df['Jurusan_Encoded'], test_size=0.2, random_state=42\n",
    ")\n",
    "\n",
    "model = Sequential()\n",
    "model.add(Dense(64, input_dim=tfidf_matrix.shape[1], activation='relu'))\n",
    "model.add(Dense(32, activation='relu'))\n",
    "model.add(Dense(len(df['Jurusan'].unique()), activation='softmax'))\n",
    "\n",
    "\n",
    "model.compile(loss='sparse_categorical_crossentropy', optimizer='adam', metrics=['accuracy'])\n"
   ]
  },
  {
   "cell_type": "code",
   "execution_count": 11,
   "metadata": {
    "colab": {
     "base_uri": "https://localhost:8080/"
    },
    "id": "Qx5A1DCu-27L",
    "outputId": "03790bec-2365-4f6a-e297-51a6ebdf81dd"
   },
   "outputs": [
    {
     "name": "stdout",
     "output_type": "stream",
     "text": [
      "Epoch 1/100\n",
      "3/3 [==============================] - 0s 3ms/step - loss: 4.5672 - accuracy: 0.0132\n",
      "Epoch 2/100\n",
      "3/3 [==============================] - 0s 8ms/step - loss: 4.5559 - accuracy: 0.0263\n",
      "Epoch 3/100\n",
      "3/3 [==============================] - 0s 5ms/step - loss: 4.5463 - accuracy: 0.0526\n",
      "Epoch 4/100\n",
      "3/3 [==============================] - 0s 5ms/step - loss: 4.5379 - accuracy: 0.0789\n",
      "Epoch 5/100\n",
      "3/3 [==============================] - 0s 4ms/step - loss: 4.5291 - accuracy: 0.0921\n",
      "Epoch 6/100\n",
      "3/3 [==============================] - 0s 4ms/step - loss: 4.5199 - accuracy: 0.1053\n",
      "Epoch 7/100\n",
      "3/3 [==============================] - 0s 3ms/step - loss: 4.5103 - accuracy: 0.1447\n",
      "Epoch 8/100\n",
      "3/3 [==============================] - 0s 1ms/step - loss: 4.4997 - accuracy: 0.2237\n",
      "Epoch 9/100\n",
      "3/3 [==============================] - 0s 3ms/step - loss: 4.4887 - accuracy: 0.2368\n",
      "Epoch 10/100\n",
      "3/3 [==============================] - 0s 2ms/step - loss: 4.4762 - accuracy: 0.2632\n",
      "Epoch 11/100\n",
      "3/3 [==============================] - 0s 3ms/step - loss: 4.4631 - accuracy: 0.2763\n",
      "Epoch 12/100\n",
      "3/3 [==============================] - 0s 6ms/step - loss: 4.4489 - accuracy: 0.2895\n",
      "Epoch 13/100\n",
      "3/3 [==============================] - 0s 5ms/step - loss: 4.4334 - accuracy: 0.2763\n",
      "Epoch 14/100\n",
      "3/3 [==============================] - 0s 5ms/step - loss: 4.4165 - accuracy: 0.2895\n",
      "Epoch 15/100\n",
      "3/3 [==============================] - 0s 3ms/step - loss: 4.3979 - accuracy: 0.3158\n",
      "Epoch 16/100\n",
      "3/3 [==============================] - 0s 3ms/step - loss: 4.3778 - accuracy: 0.3289\n",
      "Epoch 17/100\n",
      "3/3 [==============================] - 0s 3ms/step - loss: 4.3560 - accuracy: 0.3684\n",
      "Epoch 18/100\n",
      "3/3 [==============================] - 0s 3ms/step - loss: 4.3325 - accuracy: 0.4079\n",
      "Epoch 19/100\n",
      "3/3 [==============================] - 0s 3ms/step - loss: 4.3063 - accuracy: 0.4211\n",
      "Epoch 20/100\n",
      "3/3 [==============================] - 0s 3ms/step - loss: 4.2784 - accuracy: 0.4737\n",
      "Epoch 21/100\n",
      "3/3 [==============================] - 0s 4ms/step - loss: 4.2486 - accuracy: 0.4605\n",
      "Epoch 22/100\n",
      "3/3 [==============================] - 0s 4ms/step - loss: 4.2161 - accuracy: 0.4737\n",
      "Epoch 23/100\n",
      "3/3 [==============================] - 0s 3ms/step - loss: 4.1813 - accuracy: 0.4737\n",
      "Epoch 24/100\n",
      "3/3 [==============================] - 0s 3ms/step - loss: 4.1441 - accuracy: 0.5000\n",
      "Epoch 25/100\n",
      "3/3 [==============================] - 0s 3ms/step - loss: 4.1052 - accuracy: 0.5132\n",
      "Epoch 26/100\n",
      "3/3 [==============================] - 0s 3ms/step - loss: 4.0641 - accuracy: 0.5000\n",
      "Epoch 27/100\n",
      "3/3 [==============================] - 0s 4ms/step - loss: 4.0207 - accuracy: 0.5000\n",
      "Epoch 28/100\n",
      "3/3 [==============================] - 0s 4ms/step - loss: 3.9763 - accuracy: 0.4868\n",
      "Epoch 29/100\n",
      "3/3 [==============================] - 0s 4ms/step - loss: 3.9285 - accuracy: 0.5263\n",
      "Epoch 30/100\n",
      "3/3 [==============================] - 0s 968us/step - loss: 3.8793 - accuracy: 0.5263\n",
      "Epoch 31/100\n",
      "3/3 [==============================] - 0s 3ms/step - loss: 3.8286 - accuracy: 0.5395\n",
      "Epoch 32/100\n",
      "3/3 [==============================] - 0s 3ms/step - loss: 3.7750 - accuracy: 0.5526\n",
      "Epoch 33/100\n",
      "3/3 [==============================] - 0s 3ms/step - loss: 3.7227 - accuracy: 0.5526\n",
      "Epoch 34/100\n",
      "3/3 [==============================] - 0s 3ms/step - loss: 3.6664 - accuracy: 0.5526\n",
      "Epoch 35/100\n",
      "3/3 [==============================] - 0s 4ms/step - loss: 3.6096 - accuracy: 0.5658\n",
      "Epoch 36/100\n",
      "3/3 [==============================] - 0s 3ms/step - loss: 3.5502 - accuracy: 0.6316\n",
      "Epoch 37/100\n",
      "3/3 [==============================] - 0s 3ms/step - loss: 3.4899 - accuracy: 0.6711\n",
      "Epoch 38/100\n",
      "3/3 [==============================] - 0s 3ms/step - loss: 3.4283 - accuracy: 0.7105\n",
      "Epoch 39/100\n",
      "3/3 [==============================] - 0s 3ms/step - loss: 3.3664 - accuracy: 0.7368\n",
      "Epoch 40/100\n",
      "3/3 [==============================] - 0s 3ms/step - loss: 3.2990 - accuracy: 0.7368\n",
      "Epoch 41/100\n",
      "3/3 [==============================] - 0s 4ms/step - loss: 3.2349 - accuracy: 0.7500\n",
      "Epoch 42/100\n",
      "3/3 [==============================] - 0s 3ms/step - loss: 3.1656 - accuracy: 0.7500\n",
      "Epoch 43/100\n",
      "3/3 [==============================] - 0s 3ms/step - loss: 3.0984 - accuracy: 0.7763\n",
      "Epoch 44/100\n",
      "3/3 [==============================] - 0s 3ms/step - loss: 3.0254 - accuracy: 0.7763\n",
      "Epoch 45/100\n",
      "3/3 [==============================] - 0s 3ms/step - loss: 2.9560 - accuracy: 0.7895\n",
      "Epoch 46/100\n",
      "3/3 [==============================] - 0s 4ms/step - loss: 2.8817 - accuracy: 0.8026\n",
      "Epoch 47/100\n",
      "3/3 [==============================] - 0s 3ms/step - loss: 2.8076 - accuracy: 0.8684\n",
      "Epoch 48/100\n",
      "3/3 [==============================] - 0s 3ms/step - loss: 2.7330 - accuracy: 0.8947\n",
      "Epoch 49/100\n",
      "3/3 [==============================] - 0s 3ms/step - loss: 2.6575 - accuracy: 0.9079\n",
      "Epoch 50/100\n",
      "3/3 [==============================] - 0s 3ms/step - loss: 2.5816 - accuracy: 0.9079\n",
      "Epoch 51/100\n",
      "3/3 [==============================] - 0s 3ms/step - loss: 2.5030 - accuracy: 0.8947\n",
      "Epoch 52/100\n",
      "3/3 [==============================] - 0s 3ms/step - loss: 2.4246 - accuracy: 0.9079\n",
      "Epoch 53/100\n",
      "3/3 [==============================] - 0s 3ms/step - loss: 2.3483 - accuracy: 0.9079\n",
      "Epoch 54/100\n",
      "3/3 [==============================] - 0s 3ms/step - loss: 2.2715 - accuracy: 0.9079\n",
      "Epoch 55/100\n",
      "3/3 [==============================] - 0s 3ms/step - loss: 2.1920 - accuracy: 0.9342\n",
      "Epoch 56/100\n",
      "3/3 [==============================] - 0s 3ms/step - loss: 2.1159 - accuracy: 0.9342\n",
      "Epoch 57/100\n",
      "3/3 [==============================] - 0s 3ms/step - loss: 2.0396 - accuracy: 0.9342\n",
      "Epoch 58/100\n",
      "3/3 [==============================] - 0s 2ms/step - loss: 1.9632 - accuracy: 0.9342\n",
      "Epoch 59/100\n",
      "3/3 [==============================] - 0s 3ms/step - loss: 1.8882 - accuracy: 0.9342\n",
      "Epoch 60/100\n",
      "3/3 [==============================] - 0s 3ms/step - loss: 1.8127 - accuracy: 0.9342\n",
      "Epoch 61/100\n",
      "3/3 [==============================] - 0s 3ms/step - loss: 1.7380 - accuracy: 0.9474\n",
      "Epoch 62/100\n",
      "3/3 [==============================] - 0s 4ms/step - loss: 1.6639 - accuracy: 0.9605\n",
      "Epoch 63/100\n",
      "3/3 [==============================] - 0s 3ms/step - loss: 1.5928 - accuracy: 0.9868\n",
      "Epoch 64/100\n",
      "3/3 [==============================] - 0s 4ms/step - loss: 1.5222 - accuracy: 0.9868\n",
      "Epoch 65/100\n",
      "3/3 [==============================] - 0s 3ms/step - loss: 1.4532 - accuracy: 0.9868\n",
      "Epoch 66/100\n",
      "3/3 [==============================] - 0s 2ms/step - loss: 1.3848 - accuracy: 0.9868\n",
      "Epoch 67/100\n",
      "3/3 [==============================] - 0s 3ms/step - loss: 1.3179 - accuracy: 0.9868\n",
      "Epoch 68/100\n",
      "3/3 [==============================] - 0s 3ms/step - loss: 1.2559 - accuracy: 0.9868\n",
      "Epoch 69/100\n",
      "3/3 [==============================] - 0s 3ms/step - loss: 1.1935 - accuracy: 0.9868\n",
      "Epoch 70/100\n",
      "3/3 [==============================] - 0s 4ms/step - loss: 1.1324 - accuracy: 0.9868\n",
      "Epoch 71/100\n",
      "3/3 [==============================] - 0s 3ms/step - loss: 1.0763 - accuracy: 0.9868\n",
      "Epoch 72/100\n",
      "3/3 [==============================] - 0s 3ms/step - loss: 1.0204 - accuracy: 1.0000\n",
      "Epoch 73/100\n",
      "3/3 [==============================] - 0s 3ms/step - loss: 0.9666 - accuracy: 1.0000\n",
      "Epoch 74/100\n",
      "3/3 [==============================] - 0s 3ms/step - loss: 0.9174 - accuracy: 1.0000\n",
      "Epoch 75/100\n",
      "3/3 [==============================] - 0s 3ms/step - loss: 0.8693 - accuracy: 1.0000\n",
      "Epoch 76/100\n",
      "3/3 [==============================] - 0s 3ms/step - loss: 0.8242 - accuracy: 0.9868\n",
      "Epoch 77/100\n",
      "3/3 [==============================] - 0s 3ms/step - loss: 0.7810 - accuracy: 0.9868\n",
      "Epoch 78/100\n",
      "3/3 [==============================] - 0s 3ms/step - loss: 0.7393 - accuracy: 0.9868\n",
      "Epoch 79/100\n",
      "3/3 [==============================] - 0s 3ms/step - loss: 0.7014 - accuracy: 0.9868\n",
      "Epoch 80/100\n",
      "3/3 [==============================] - 0s 3ms/step - loss: 0.6652 - accuracy: 0.9868\n",
      "Epoch 81/100\n",
      "3/3 [==============================] - 0s 3ms/step - loss: 0.6313 - accuracy: 0.9868\n",
      "Epoch 82/100\n",
      "3/3 [==============================] - 0s 3ms/step - loss: 0.5988 - accuracy: 0.9868\n",
      "Epoch 83/100\n",
      "3/3 [==============================] - 0s 3ms/step - loss: 0.5677 - accuracy: 0.9868\n",
      "Epoch 84/100\n",
      "3/3 [==============================] - 0s 4ms/step - loss: 0.5380 - accuracy: 0.9868\n",
      "Epoch 85/100\n",
      "3/3 [==============================] - 0s 3ms/step - loss: 0.5108 - accuracy: 1.0000\n",
      "Epoch 86/100\n",
      "3/3 [==============================] - 0s 3ms/step - loss: 0.4847 - accuracy: 1.0000\n",
      "Epoch 87/100\n",
      "3/3 [==============================] - 0s 3ms/step - loss: 0.4617 - accuracy: 1.0000\n",
      "Epoch 88/100\n",
      "3/3 [==============================] - 0s 3ms/step - loss: 0.4383 - accuracy: 1.0000\n",
      "Epoch 89/100\n",
      "3/3 [==============================] - 0s 3ms/step - loss: 0.4180 - accuracy: 1.0000\n",
      "Epoch 90/100\n",
      "3/3 [==============================] - 0s 3ms/step - loss: 0.3974 - accuracy: 1.0000\n",
      "Epoch 91/100\n",
      "3/3 [==============================] - 0s 3ms/step - loss: 0.3800 - accuracy: 1.0000\n",
      "Epoch 92/100\n",
      "3/3 [==============================] - 0s 3ms/step - loss: 0.3620 - accuracy: 1.0000\n",
      "Epoch 93/100\n",
      "3/3 [==============================] - 0s 3ms/step - loss: 0.3464 - accuracy: 1.0000\n",
      "Epoch 94/100\n",
      "3/3 [==============================] - 0s 3ms/step - loss: 0.3311 - accuracy: 1.0000\n",
      "Epoch 95/100\n",
      "3/3 [==============================] - 0s 3ms/step - loss: 0.3165 - accuracy: 1.0000\n",
      "Epoch 96/100\n",
      "3/3 [==============================] - 0s 3ms/step - loss: 0.3028 - accuracy: 1.0000\n",
      "Epoch 97/100\n",
      "3/3 [==============================] - 0s 3ms/step - loss: 0.2901 - accuracy: 1.0000\n",
      "Epoch 98/100\n",
      "3/3 [==============================] - 0s 3ms/step - loss: 0.2786 - accuracy: 1.0000\n",
      "Epoch 99/100\n",
      "3/3 [==============================] - 0s 3ms/step - loss: 0.2676 - accuracy: 1.0000\n",
      "Epoch 100/100\n",
      "3/3 [==============================] - 0s 3ms/step - loss: 0.2570 - accuracy: 1.0000\n"
     ]
    },
    {
     "data": {
      "text/plain": [
       "<keras.callbacks.History at 0x1fcfd25ae00>"
      ]
     },
     "execution_count": 11,
     "metadata": {},
     "output_type": "execute_result"
    }
   ],
   "source": [
    "model.fit(X_train.toarray(), y_train, epochs=100, batch_size=32)\n"
   ]
  },
  {
   "cell_type": "code",
   "execution_count": 18,
   "metadata": {
    "colab": {
     "base_uri": "https://localhost:8080/"
    },
    "id": "YsEs6fgU-ixt",
    "outputId": "8364476d-c414-4932-f8e1-ba4907812e2d"
   },
   "outputs": [
    {
     "name": "stdout",
     "output_type": "stream",
     "text": [
      "1/1 [==============================] - 0s 20ms/step\n",
      "Predicted Jurusan: Tata Rias\n"
     ]
    }
   ],
   "source": [
    "user_input = \"saya suka mempelajari tata surya\"\n",
    "user_input_tokens = preprocess_text(user_input)\n",
    "user_input_vector = tfidf_vectorizer.transform([user_input_tokens])\n",
    "\n",
    "predicted_probabilities = model.predict(user_input_vector.toarray())\n",
    "predicted_class = np.argmax(predicted_probabilities)\n",
    "predicted_jurusan = label_encoder.inverse_transform([predicted_class])[0]\n",
    "\n",
    "#predicted_probabilities = model.predict(user_input_vector.toarray())\n",
    "#predicted_class = np.argmax(predicted_probabilities)\n",
    "#predicted_class = np.argmax(cosine_similarity)\n",
    "#predicted_jurusan = label_encoder.inverse_transform([predicted_class])[0]\n",
    "print(\"Predicted Jurusan:\", predicted_jurusan)"
   ]
  },
  {
   "cell_type": "code",
   "execution_count": 19,
   "metadata": {},
   "outputs": [],
   "source": [
    "model.save(\"model_updated.h5\")"
   ]
  },
  {
   "cell_type": "code",
   "execution_count": null,
   "metadata": {},
   "outputs": [],
   "source": []
  },
  {
   "cell_type": "code",
   "execution_count": 2,
   "metadata": {},
   "outputs": [
    {
     "name": "stdout",
     "output_type": "stream",
     "text": [
      "Requirement already satisfied: Sastrawi in c:\\users\\faraz\\anaconda3\\envs\\tensorflow\\lib\\site-packages (1.0.1)\n",
      "Requirement already satisfied: nltk in c:\\users\\faraz\\anaconda3\\envs\\tensorflow\\lib\\site-packages (3.8.1)\n",
      "Requirement already satisfied: click in c:\\users\\faraz\\anaconda3\\envs\\tensorflow\\lib\\site-packages (from nltk) (8.1.7)\n",
      "Requirement already satisfied: joblib in c:\\users\\faraz\\anaconda3\\envs\\tensorflow\\lib\\site-packages (from nltk) (1.2.0)\n",
      "Requirement already satisfied: regex>=2021.8.3 in c:\\users\\faraz\\anaconda3\\envs\\tensorflow\\lib\\site-packages (from nltk) (2023.10.3)\n",
      "Requirement already satisfied: tqdm in c:\\users\\faraz\\anaconda3\\envs\\tensorflow\\lib\\site-packages (from nltk) (4.66.1)\n",
      "Requirement already satisfied: colorama in c:\\users\\faraz\\anaconda3\\envs\\tensorflow\\lib\\site-packages (from click->nltk) (0.4.6)\n"
     ]
    }
   ],
   "source": [
    "!pip install Sastrawi\n",
    "!pip install nltk"
   ]
  },
  {
   "cell_type": "code",
   "execution_count": 3,
   "metadata": {},
   "outputs": [
    {
     "name": "stderr",
     "output_type": "stream",
     "text": [
      "[nltk_data] Downloading package punkt to\n",
      "[nltk_data]     C:\\Users\\Faraz\\AppData\\Roaming\\nltk_data...\n",
      "[nltk_data]   Package punkt is already up-to-date!\n",
      "[nltk_data] Downloading package stopwords to\n",
      "[nltk_data]     C:\\Users\\Faraz\\AppData\\Roaming\\nltk_data...\n",
      "[nltk_data]   Package stopwords is already up-to-date!\n"
     ]
    },
    {
     "data": {
      "text/plain": [
       "True"
      ]
     },
     "execution_count": 3,
     "metadata": {},
     "output_type": "execute_result"
    }
   ],
   "source": [
    "import nltk\n",
    "from nltk.tokenize import word_tokenize\n",
    "from nltk.corpus import stopwords\n",
    "from nltk.stem import PorterStemmer\n",
    "from Sastrawi.Stemmer.StemmerFactory import StemmerFactory\n",
    "\n",
    "nltk.download('punkt')\n",
    "nltk.download('stopwords')"
   ]
  },
  {
   "cell_type": "code",
   "execution_count": 8,
   "metadata": {},
   "outputs": [],
   "source": [
    "path = '.'\n",
    "df = pd.read_excel(f\"{path}/Dataset/Data_Jurusan_2.xlsx\")\n",
    "\n",
    "def preprocess_text(text):\n",
    "    # Tokenisasi\n",
    "    tokens = word_tokenize(str(text))\n",
    "\n",
    "    # Stopword\n",
    "    stop_words = set(stopwords.words('indonesian'))\n",
    "    tokens = [word.lower() for word in tokens if word.lower() not in stop_words]\n",
    "\n",
    "    # Stemming\n",
    "    factory = StemmerFactory()\n",
    "    stemmer = factory.create_stemmer()\n",
    "    tokens = [stemmer.stem(word) for word in tokens]\n",
    "\n",
    "    preprocessed_text = ' '.join(tokens)\n",
    "\n",
    "    return preprocessed_text\n",
    "\n",
    "df['Deskripsi'] = df['Deskripsi'].apply(preprocess_text)\n",
    "tfidf_vectorizer = TfidfVectorizer()\n",
    "tfidf_matrix = tfidf_vectorizer.fit_transform(df['Deskripsi'])\n",
    "\n",
    "label_encoder = LabelEncoder()\n",
    "df['Jurusan_Encoded'] = label_encoder.fit_transform(df['Jurusan'])\n",
    "\n",
    "X_train, X_test, y_train, y_test = train_test_split(\n",
    "    tfidf_matrix, df['Jurusan_Encoded'], test_size=0.2, random_state=42\n",
    ")\n",
    "\n",
    "model = tf.keras.Sequential()\n",
    "tf.keras.layers.Dense(64, input_dim=tfidf_matrix.shape[1], activation='relu'),\n",
    "tf.keras.layers.Dense(32, activation='relu'),\n",
    "tf.keras.layers.Dense(len(df['Jurusan'].unique()), activation='softmax')\n",
    "\n",
    "\n",
    "model.compile(loss='sparse_categorical_crossentropy', optimizer='adam', metrics=['accuracy'])\n"
   ]
  }
 ],
 "metadata": {
  "colab": {
   "provenance": []
  },
  "kernelspec": {
   "display_name": "Python 3 (ipykernel)",
   "language": "python",
   "name": "python3"
  },
  "language_info": {
   "codemirror_mode": {
    "name": "ipython",
    "version": 3
   },
   "file_extension": ".py",
   "mimetype": "text/x-python",
   "name": "python",
   "nbconvert_exporter": "python",
   "pygments_lexer": "ipython3",
   "version": "3.10.13"
  }
 },
 "nbformat": 4,
 "nbformat_minor": 4
}
